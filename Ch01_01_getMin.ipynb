{
 "cells": [
  {
   "cell_type": "code",
   "execution_count": 1,
   "metadata": {},
   "outputs": [],
   "source": [
    "#python3.5\n",
    "class NewStack1:\n",
    "    def __init__(self):\n",
    "        self.stackData = []\n",
    "        self.stackMin = []\n",
    "\n",
    "    def push(self, newNum):\n",
    "        self.stackData.append(newNum)\n",
    "        if len(self.stackMin) == 0 or newNum <= self.getMin():\n",
    "            self.stackMin.append(newNum)\n",
    "\n",
    "    def pop(self):\n",
    "        if len(self.stackData) == 0:\n",
    "            raise Exception(\"stack is empty!\")\n",
    "        value = self.stackData.pop()\n",
    "        if self.getMin() == value:\n",
    "            self.stackMin.pop()\n",
    "        return value\n",
    "\n",
    "    def getMin(self):\n",
    "        if len(self.stackMin) == 0:\n",
    "            raise Exception(\"stack is empty!\")\n",
    "        return self.stackMin[-1]"
   ]
  },
  {
   "cell_type": "code",
   "execution_count": 2,
   "metadata": {},
   "outputs": [],
   "source": [
    "class NewStack2:\n",
    "    def __init__(self):\n",
    "        self.stackData = []\n",
    "        self.stackMin = []\n",
    "\n",
    "    def push(self, newNum):\n",
    "        self.stackData.append(newNum)\n",
    "        if len(self.stackMin) == 0 or newNum < self.getMin():\n",
    "            self.stackMin.append(newNum)\n",
    "        else:\n",
    "            self.stackMin.append(self.getMin())\n",
    "\n",
    "    def pop(self):\n",
    "        if len(self.stackData) == 0:\n",
    "            raise Exception(\"Stack is empty!\")\n",
    "        self.stackMin.pop()\n",
    "        return self.stackData.pop()\n",
    "\n",
    "    def getMin(self):\n",
    "        if len(self.stackMin) == 0:\n",
    "            raise Exception(\"Stack is empty!\")\n",
    "        return self.stackMin[-1]"
   ]
  },
  {
   "cell_type": "code",
   "execution_count": null,
   "metadata": {},
   "outputs": [],
   "source": []
  }
 ],
 "metadata": {
  "kernelspec": {
   "display_name": "Python 3",
   "language": "python",
   "name": "python3"
  },
  "language_info": {
   "codemirror_mode": {
    "name": "ipython",
    "version": 3
   },
   "file_extension": ".py",
   "mimetype": "text/x-python",
   "name": "python",
   "nbconvert_exporter": "python",
   "pygments_lexer": "ipython3",
   "version": "3.6.4"
  }
 },
 "nbformat": 4,
 "nbformat_minor": 2
}
